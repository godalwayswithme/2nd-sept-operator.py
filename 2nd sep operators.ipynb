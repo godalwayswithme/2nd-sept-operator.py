{
 "cells": [
  {
   "cell_type": "code",
   "execution_count": null,
   "id": "225284d7-43a6-4bdc-afe0-49a53d5aa006",
   "metadata": {},
   "outputs": [],
   "source": [
    "x=10"
   ]
  },
  {
   "cell_type": "code",
   "execution_count": null,
   "id": "1f105dc8-5775-457b-95bf-143677652913",
   "metadata": {},
   "outputs": [],
   "source": [
    "x=1.45"
   ]
  },
  {
   "cell_type": "code",
   "execution_count": null,
   "id": "00e8784b-efc2-4c4f-9db6-ccc67b6c1b3e",
   "metadata": {},
   "outputs": [],
   "source": [
    "x=\"poonam\""
   ]
  },
  {
   "cell_type": "code",
   "execution_count": null,
   "id": "e863e0e8-1c03-45dd-984b-35900bc4465f",
   "metadata": {},
   "outputs": [],
   "source": [
    "x=['hi',4,5,7,]"
   ]
  },
  {
   "cell_type": "code",
   "execution_count": null,
   "id": "1c8ee79a-4e56-495e-819b-2d0eb3e8fa51",
   "metadata": {},
   "outputs": [],
   "source": [
    "x={'name':'poonam'}"
   ]
  },
  {
   "cell_type": "code",
   "execution_count": null,
   "id": "1c438d3c-9bd1-4005-b62a-00e9b261f8b0",
   "metadata": {},
   "outputs": [],
   "source": [
    "h=(1,2,3,4,5)"
   ]
  },
  {
   "cell_type": "code",
   "execution_count": null,
   "id": "90b47fef-3dc6-4a22-852f-c8f2faba9c5a",
   "metadata": {},
   "outputs": [],
   "source": [
    "type(x)"
   ]
  },
  {
   "cell_type": "code",
   "execution_count": null,
   "id": "11965d06-f89e-46bd-bd04-db5cd2345308",
   "metadata": {},
   "outputs": [],
   "source": [
    "x=input()"
   ]
  },
  {
   "cell_type": "code",
   "execution_count": null,
   "id": "51c6625c-2e5c-4a4d-88c5-b34b192c0c15",
   "metadata": {},
   "outputs": [],
   "source": [
    "x"
   ]
  },
  {
   "cell_type": "code",
   "execution_count": null,
   "id": "28671628-bbc8-4e08-a8a5-4bae386f65aa",
   "metadata": {},
   "outputs": [],
   "source": [
    "z=input()"
   ]
  },
  {
   "cell_type": "code",
   "execution_count": null,
   "id": "df3e4294-0831-4371-a93b-6f6a3b05dbe4",
   "metadata": {},
   "outputs": [],
   "source": [
    "hihi"
   ]
  },
  {
   "cell_type": "code",
   "execution_count": 2,
   "id": "943d1302-5ead-4587-92f6-f7882d83795b",
   "metadata": {},
   "outputs": [
    {
     "name": "stdout",
     "output_type": "stream",
     "text": [
      "hi\n"
     ]
    }
   ],
   "source": [
    "print(\"hi\")"
   ]
  },
  {
   "cell_type": "code",
   "execution_count": null,
   "id": "caa79c69-7fc4-44f8-923f-13cf4767b5f9",
   "metadata": {},
   "outputs": [],
   "source": [
    "input(\"enter your name\")\n",
    "print(x)"
   ]
  },
  {
   "cell_type": "code",
   "execution_count": null,
   "id": "b10c2566-ca12-46d3-97b5-61d3850c51e5",
   "metadata": {},
   "outputs": [],
   "source": [
    "y=input(\"enter your name\")\n",
    "print(\"my age is \" \n",
    "\n",
    "      +y) "
   ]
  },
  {
   "cell_type": "code",
   "execution_count": 1,
   "id": "085dacc9-9669-43da-938f-bfad0cd6367f",
   "metadata": {},
   "outputs": [
    {
     "name": "stdout",
     "output_type": "stream",
     "text": [
      "30\n"
     ]
    }
   ],
   "source": [
    "x=10\n",
    "y=20\n",
    "print(x+y)"
   ]
  },
  {
   "cell_type": "code",
   "execution_count": 2,
   "id": "8674df6d-37da-489d-a528-68c6f0061d79",
   "metadata": {},
   "outputs": [
    {
     "name": "stdin",
     "output_type": "stream",
     "text": [
      "enter first number 8\n",
      "enter second number 8\n"
     ]
    },
    {
     "name": "stdout",
     "output_type": "stream",
     "text": [
      "16\n"
     ]
    }
   ],
   "source": [
    "b =int(input(\"enter first number\"))\n",
    "c = int(input(\"enter second number\"))\n",
    "print(b+c)"
   ]
  },
  {
   "cell_type": "code",
   "execution_count": 3,
   "id": "bb1485c1-4751-4264-822d-b6ab411e84e5",
   "metadata": {},
   "outputs": [
    {
     "name": "stdin",
     "output_type": "stream",
     "text": [
      "enter any number 1\n"
     ]
    },
    {
     "name": "stdout",
     "output_type": "stream",
     "text": [
      "1\n"
     ]
    }
   ],
   "source": [
    "x=int(input(\"enter any number\"))\n",
    "print(x)"
   ]
  },
  {
   "cell_type": "code",
   "execution_count": 4,
   "id": "13538762-73d4-42af-80d7-194c3a9e49df",
   "metadata": {},
   "outputs": [
    {
     "name": "stdout",
     "output_type": "stream",
     "text": [
      "pwskills\n"
     ]
    }
   ],
   "source": [
    "print(\"pwskills\")"
   ]
  },
  {
   "cell_type": "code",
   "execution_count": 6,
   "id": "748b787e-a052-4a91-a6c0-ff34faa4bd93",
   "metadata": {},
   "outputs": [
    {
     "name": "stdout",
     "output_type": "stream",
     "text": [
      "hi ok pwskills\n"
     ]
    }
   ],
   "source": [
    "x=\"hi\"\n",
    "y=\"pwskills\"\n",
    "print(f\"{x} ok {y}\")"
   ]
  },
  {
   "cell_type": "code",
   "execution_count": 7,
   "id": "d41fe7a2-2a0b-41b6-ab6e-65757e7b74ce",
   "metadata": {},
   "outputs": [
    {
     "name": "stdout",
     "output_type": "stream",
     "text": [
      "pw\n"
     ]
    }
   ],
   "source": [
    "print(\"pw\")"
   ]
  },
  {
   "cell_type": "code",
   "execution_count": 8,
   "id": "bb2764e1-6c46-4e2c-9073-6139fdab6a8f",
   "metadata": {},
   "outputs": [
    {
     "name": "stdout",
     "output_type": "stream",
     "text": [
      "6\n"
     ]
    }
   ],
   "source": [
    "print(\"6\")"
   ]
  },
  {
   "cell_type": "code",
   "execution_count": 14,
   "id": "2fcdb65c-9a38-47b6-97d4-62637dc22bab",
   "metadata": {},
   "outputs": [
    {
     "name": "stdout",
     "output_type": "stream",
     "text": [
      "skills and pw and ineuron \n"
     ]
    }
   ],
   "source": [
    "print(\"{1} and {0} and {2} \".format(\"pw\",\"skills\",\"ineuron\"))\n"
   ]
  },
  {
   "cell_type": "code",
   "execution_count": 15,
   "id": "c8e99633-ece4-4122-b98a-462320fe3b63",
   "metadata": {},
   "outputs": [
    {
     "name": "stdin",
     "output_type": "stream",
     "text": [
      "enter the string poonam\n"
     ]
    },
    {
     "name": "stdout",
     "output_type": "stream",
     "text": [
      "!poonam!\n"
     ]
    }
   ],
   "source": [
    "x=input('enter the string')\n",
    "y=x\n",
    "z=\"!\"+ x + \"!\"\n",
    "print(z)"
   ]
  },
  {
   "cell_type": "code",
   "execution_count": 20,
   "id": "0645dacd-fb5d-4dc8-b564-d4c62bc38b4e",
   "metadata": {},
   "outputs": [],
   "source": [
    "a=10\n",
    "b=10"
   ]
  },
  {
   "cell_type": "code",
   "execution_count": 21,
   "id": "aefbe33e-982f-4aaf-9ab2-1e87ec5f8791",
   "metadata": {},
   "outputs": [
    {
     "data": {
      "text/plain": [
       "20"
      ]
     },
     "execution_count": 21,
     "metadata": {},
     "output_type": "execute_result"
    }
   ],
   "source": [
    "a+b"
   ]
  },
  {
   "cell_type": "code",
   "execution_count": 22,
   "id": "8b6a7a77-a3d1-42d9-ab4f-59a20f8db28e",
   "metadata": {},
   "outputs": [
    {
     "data": {
      "text/plain": [
       "100"
      ]
     },
     "execution_count": 22,
     "metadata": {},
     "output_type": "execute_result"
    }
   ],
   "source": [
    "a*b"
   ]
  },
  {
   "cell_type": "code",
   "execution_count": 23,
   "id": "a6fadbed-969b-4437-a455-c9750ab62de6",
   "metadata": {},
   "outputs": [
    {
     "data": {
      "text/plain": [
       "0"
      ]
     },
     "execution_count": 23,
     "metadata": {},
     "output_type": "execute_result"
    }
   ],
   "source": [
    "b-a"
   ]
  },
  {
   "cell_type": "code",
   "execution_count": 24,
   "id": "5f609b86-bae6-4464-ace3-5ab869de965c",
   "metadata": {},
   "outputs": [
    {
     "data": {
      "text/plain": [
       "1.0"
      ]
     },
     "execution_count": 24,
     "metadata": {},
     "output_type": "execute_result"
    }
   ],
   "source": [
    "a/b"
   ]
  },
  {
   "cell_type": "code",
   "execution_count": null,
   "id": "bc85e083-2832-492d-abc5-340deda8aac0",
   "metadata": {},
   "outputs": [],
   "source": [
    "a=20"
   ]
  },
  {
   "cell_type": "code",
   "execution_count": null,
   "id": "95399409-d59e-4b9d-8ca9-d860ff7b8362",
   "metadata": {},
   "outputs": [],
   "source": [
    "b=20"
   ]
  },
  {
   "cell_type": "code",
   "execution_count": 25,
   "id": "e51efa54-04dd-40b2-9fcf-379a20bd072b",
   "metadata": {},
   "outputs": [
    {
     "data": {
      "text/plain": [
       "True"
      ]
     },
     "execution_count": 25,
     "metadata": {},
     "output_type": "execute_result"
    }
   ],
   "source": [
    "a==b"
   ]
  },
  {
   "cell_type": "code",
   "execution_count": 26,
   "id": "4161e5c1-1654-4e8f-94fd-efbff1ef96ac",
   "metadata": {},
   "outputs": [
    {
     "data": {
      "text/plain": [
       "True"
      ]
     },
     "execution_count": 26,
     "metadata": {},
     "output_type": "execute_result"
    }
   ],
   "source": [
    "a is b"
   ]
  },
  {
   "cell_type": "code",
   "execution_count": null,
   "id": "9c4d964c-68ae-44b2-94e2-ec23be63f64b",
   "metadata": {},
   "outputs": [],
   "source": [
    "a =40"
   ]
  },
  {
   "cell_type": "code",
   "execution_count": null,
   "id": "57c5a075-6623-49dd-8d63-3095f6e0850b",
   "metadata": {},
   "outputs": [],
   "source": [
    "b =40"
   ]
  },
  {
   "cell_type": "code",
   "execution_count": 31,
   "id": "1166c8d0-a56e-49c1-b995-0f25b22b270b",
   "metadata": {},
   "outputs": [
    {
     "data": {
      "text/plain": [
       "True"
      ]
     },
     "execution_count": 31,
     "metadata": {},
     "output_type": "execute_result"
    }
   ],
   "source": [
    "a == b"
   ]
  },
  {
   "cell_type": "code",
   "execution_count": 32,
   "id": "e124d8a2-5f67-4064-a93b-d88430a35a78",
   "metadata": {},
   "outputs": [
    {
     "data": {
      "text/plain": [
       "140661613920784"
      ]
     },
     "execution_count": 32,
     "metadata": {},
     "output_type": "execute_result"
    }
   ],
   "source": [
    "id(a)\n"
   ]
  },
  {
   "cell_type": "code",
   "execution_count": 33,
   "id": "a4b139f3-adc5-4291-9e69-a6b13ec7311c",
   "metadata": {},
   "outputs": [
    {
     "data": {
      "text/plain": [
       "140661613920784"
      ]
     },
     "execution_count": 33,
     "metadata": {},
     "output_type": "execute_result"
    }
   ],
   "source": [
    "id(b)\n"
   ]
  },
  {
   "cell_type": "code",
   "execution_count": 34,
   "id": "3e6a77e9-98cc-41b5-86e3-b0ae881a7a16",
   "metadata": {},
   "outputs": [
    {
     "data": {
      "text/plain": [
       "True"
      ]
     },
     "execution_count": 34,
     "metadata": {},
     "output_type": "execute_result"
    }
   ],
   "source": [
    "a is b\n"
   ]
  },
  {
   "cell_type": "code",
   "execution_count": 35,
   "id": "fc02d17e-4184-4667-90ed-f8f58fc49c46",
   "metadata": {},
   "outputs": [],
   "source": [
    "a =[1,2,3,]"
   ]
  },
  {
   "cell_type": "code",
   "execution_count": 36,
   "id": "702fbe99-2494-48f1-bf8b-e9ea35c7ed94",
   "metadata": {},
   "outputs": [],
   "source": [
    "b =[1,2,3]"
   ]
  },
  {
   "cell_type": "code",
   "execution_count": 37,
   "id": "f9040d98-d151-484d-b4c4-ee481d3dd1b3",
   "metadata": {},
   "outputs": [
    {
     "data": {
      "text/plain": [
       "True"
      ]
     },
     "execution_count": 37,
     "metadata": {},
     "output_type": "execute_result"
    }
   ],
   "source": [
    "a == b"
   ]
  },
  {
   "cell_type": "code",
   "execution_count": 38,
   "id": "c1e026c3-8509-48a4-85ab-a05ea47449d8",
   "metadata": {},
   "outputs": [
    {
     "data": {
      "text/plain": [
       "False"
      ]
     },
     "execution_count": 38,
     "metadata": {},
     "output_type": "execute_result"
    }
   ],
   "source": [
    "a is b\n"
   ]
  },
  {
   "cell_type": "code",
   "execution_count": 39,
   "id": "73fd8ff5-a417-46a3-a368-56066172f40a",
   "metadata": {},
   "outputs": [
    {
     "data": {
      "text/plain": [
       "140661265906624"
      ]
     },
     "execution_count": 39,
     "metadata": {},
     "output_type": "execute_result"
    }
   ],
   "source": [
    "id(a)"
   ]
  },
  {
   "cell_type": "code",
   "execution_count": 40,
   "id": "c479ec1a-5a21-4917-a145-4b6bb4fa2bd9",
   "metadata": {},
   "outputs": [
    {
     "data": {
      "text/plain": [
       "140661521439104"
      ]
     },
     "execution_count": 40,
     "metadata": {},
     "output_type": "execute_result"
    }
   ],
   "source": [
    "id(b)"
   ]
  },
  {
   "cell_type": "code",
   "execution_count": 41,
   "id": "7168bf9a-6393-4cb2-a47e-4167b5e2c180",
   "metadata": {},
   "outputs": [],
   "source": [
    "a =[1,2,3]"
   ]
  },
  {
   "cell_type": "code",
   "execution_count": 42,
   "id": "88bfe8cc-fe43-4b3c-8aac-bb36cf27e967",
   "metadata": {},
   "outputs": [],
   "source": [
    "b=a"
   ]
  },
  {
   "cell_type": "code",
   "execution_count": 43,
   "id": "2fbdd5ef-a876-4e48-aef2-99931735002a",
   "metadata": {},
   "outputs": [
    {
     "data": {
      "text/plain": [
       "True"
      ]
     },
     "execution_count": 43,
     "metadata": {},
     "output_type": "execute_result"
    }
   ],
   "source": [
    "a is b\n"
   ]
  },
  {
   "cell_type": "code",
   "execution_count": 44,
   "id": "049e811d-6c06-40cc-9dc6-f60e81decaf3",
   "metadata": {},
   "outputs": [
    {
     "data": {
      "text/plain": [
       "True"
      ]
     },
     "execution_count": 44,
     "metadata": {},
     "output_type": "execute_result"
    }
   ],
   "source": [
    "a == b\n"
   ]
  },
  {
   "cell_type": "code",
   "execution_count": 3,
   "id": "60037fa9-8733-4628-90b2-407ffe0d9af1",
   "metadata": {},
   "outputs": [
    {
     "name": "stdin",
     "output_type": "stream",
     "text": [
      "enter an integer:  10\n"
     ]
    },
    {
     "name": "stdout",
     "output_type": "stream",
     "text": [
      "5003154509899971.0\n"
     ]
    }
   ],
   "source": [
    "x = int(input(\"enter an integer: \"))\n",
    "y=3**35/x\n",
    "print(y)"
   ]
  },
  {
   "cell_type": "code",
   "execution_count": 2,
   "id": "17b03a8a-7bb4-4125-90b4-e6730ff24721",
   "metadata": {},
   "outputs": [
    {
     "data": {
      "text/plain": [
       "4"
      ]
     },
     "execution_count": 2,
     "metadata": {},
     "output_type": "execute_result"
    }
   ],
   "source": [
    "2**2"
   ]
  },
  {
   "cell_type": "code",
   "execution_count": 3,
   "id": "3d728383-b4db-4829-8582-b35b668fe1ca",
   "metadata": {},
   "outputs": [
    {
     "data": {
      "text/plain": [
       "2"
      ]
     },
     "execution_count": 3,
     "metadata": {},
     "output_type": "execute_result"
    }
   ],
   "source": [
    "5%3"
   ]
  },
  {
   "cell_type": "code",
   "execution_count": 4,
   "id": "2ee96440-ba60-4898-92ed-c11d92e3d69d",
   "metadata": {},
   "outputs": [],
   "source": [
    "a = 10"
   ]
  },
  {
   "cell_type": "code",
   "execution_count": 5,
   "id": "0a3e5285-2337-4c02-9593-d32aaca2dc9b",
   "metadata": {},
   "outputs": [],
   "source": [
    "b = 4"
   ]
  },
  {
   "cell_type": "code",
   "execution_count": 6,
   "id": "906dc0b1-e9a2-455a-940e-fe19cde927f4",
   "metadata": {},
   "outputs": [
    {
     "data": {
      "text/plain": [
       "'0b100'"
      ]
     },
     "execution_count": 6,
     "metadata": {},
     "output_type": "execute_result"
    }
   ],
   "source": [
    "bin(b)"
   ]
  },
  {
   "cell_type": "code",
   "execution_count": 9,
   "id": "d9203063-7c5c-4bc8-801b-9b46dd49d887",
   "metadata": {},
   "outputs": [
    {
     "data": {
      "text/plain": [
       "0"
      ]
     },
     "execution_count": 9,
     "metadata": {},
     "output_type": "execute_result"
    }
   ],
   "source": [
    "a & b\n",
    "# and operator"
   ]
  },
  {
   "cell_type": "code",
   "execution_count": 10,
   "id": "17df855a-ebe6-435f-9a50-edb2fc5be321",
   "metadata": {},
   "outputs": [
    {
     "data": {
      "text/plain": [
       "14"
      ]
     },
     "execution_count": 10,
     "metadata": {},
     "output_type": "execute_result"
    }
   ],
   "source": [
    "a|b"
   ]
  },
  {
   "cell_type": "code",
   "execution_count": 11,
   "id": "d50d3527-e8bc-49d3-9e19-39d335749051",
   "metadata": {},
   "outputs": [
    {
     "data": {
      "text/plain": [
       "4"
      ]
     },
     "execution_count": 11,
     "metadata": {},
     "output_type": "execute_result"
    }
   ],
   "source": [
    "a and b"
   ]
  },
  {
   "cell_type": "code",
   "execution_count": 12,
   "id": "5c80287e-d282-47f9-8127-ac1339b641f0",
   "metadata": {},
   "outputs": [
    {
     "data": {
      "text/plain": [
       "10"
      ]
     },
     "execution_count": 12,
     "metadata": {},
     "output_type": "execute_result"
    }
   ],
   "source": [
    "a"
   ]
  },
  {
   "cell_type": "code",
   "execution_count": 13,
   "id": "cc8d959b-fa41-4d2e-9b62-4de2d9621746",
   "metadata": {},
   "outputs": [
    {
     "data": {
      "text/plain": [
       "-11"
      ]
     },
     "execution_count": 13,
     "metadata": {},
     "output_type": "execute_result"
    }
   ],
   "source": [
    "~a"
   ]
  },
  {
   "cell_type": "code",
   "execution_count": 14,
   "id": "fade6cfa-a978-420b-813f-fa3e6eb7d9f6",
   "metadata": {},
   "outputs": [
    {
     "data": {
      "text/plain": [
       "14"
      ]
     },
     "execution_count": 14,
     "metadata": {},
     "output_type": "execute_result"
    }
   ],
   "source": [
    "a ^ b"
   ]
  },
  {
   "cell_type": "code",
   "execution_count": 15,
   "id": "01905812-7eed-47e1-a554-7f9e7530f281",
   "metadata": {},
   "outputs": [],
   "source": [
    "a = 10"
   ]
  },
  {
   "cell_type": "code",
   "execution_count": 16,
   "id": "dd06f5fd-39ce-4386-a07a-09bee6ec023e",
   "metadata": {},
   "outputs": [],
   "source": [
    "b = 20"
   ]
  },
  {
   "cell_type": "code",
   "execution_count": 17,
   "id": "fb8193e8-95a5-4aa7-838c-4f48ba929c2a",
   "metadata": {},
   "outputs": [
    {
     "data": {
      "text/plain": [
       "'0b1010'"
      ]
     },
     "execution_count": 17,
     "metadata": {},
     "output_type": "execute_result"
    }
   ],
   "source": [
    "bin(a)"
   ]
  },
  {
   "cell_type": "code",
   "execution_count": 18,
   "id": "d086ccd8-1373-4e4b-9417-e1d754676acb",
   "metadata": {},
   "outputs": [
    {
     "data": {
      "text/plain": [
       "'0b10100'"
      ]
     },
     "execution_count": 18,
     "metadata": {},
     "output_type": "execute_result"
    }
   ],
   "source": [
    "bin(b)"
   ]
  },
  {
   "cell_type": "code",
   "execution_count": 19,
   "id": "34bac4d8-c38b-4b1f-85f4-e13ba7db1252",
   "metadata": {},
   "outputs": [
    {
     "data": {
      "text/plain": [
       "30"
      ]
     },
     "execution_count": 19,
     "metadata": {},
     "output_type": "execute_result"
    }
   ],
   "source": [
    "a ^ b"
   ]
  },
  {
   "cell_type": "code",
   "execution_count": 23,
   "id": "89ffce80-0c56-477c-b9b9-6aa4d4736914",
   "metadata": {},
   "outputs": [],
   "source": [
    "a = 10"
   ]
  },
  {
   "cell_type": "code",
   "execution_count": 24,
   "id": "614d95cd-9a3a-452c-8f02-d72a91eb950f",
   "metadata": {},
   "outputs": [
    {
     "data": {
      "text/plain": [
       "20"
      ]
     },
     "execution_count": 24,
     "metadata": {},
     "output_type": "execute_result"
    }
   ],
   "source": [
    "a << 1"
   ]
  },
  {
   "cell_type": "code",
   "execution_count": 25,
   "id": "8a5372b9-d274-4044-bccc-0f3ba69b3dc2",
   "metadata": {},
   "outputs": [],
   "source": [
    "a = 10"
   ]
  },
  {
   "cell_type": "code",
   "execution_count": 26,
   "id": "78471b2d-ae26-4079-810a-c484ac7fd3e3",
   "metadata": {},
   "outputs": [
    {
     "data": {
      "text/plain": [
       "-11"
      ]
     },
     "execution_count": 26,
     "metadata": {},
     "output_type": "execute_result"
    }
   ],
   "source": [
    "~a"
   ]
  },
  {
   "cell_type": "code",
   "execution_count": 27,
   "id": "e19bd7f8-323f-4c03-ad8f-105ed6ebfe30",
   "metadata": {},
   "outputs": [],
   "source": [
    "a = 10"
   ]
  },
  {
   "cell_type": "code",
   "execution_count": 28,
   "id": "3e3ce8f6-639b-4692-aefa-1fc38509ca52",
   "metadata": {},
   "outputs": [],
   "source": [
    "a =a+1"
   ]
  },
  {
   "cell_type": "code",
   "execution_count": 29,
   "id": "f658471c-3ab0-4179-90e4-a1d39230d237",
   "metadata": {},
   "outputs": [],
   "source": [
    "a =10"
   ]
  },
  {
   "cell_type": "code",
   "execution_count": 30,
   "id": "b5395b09-b442-4298-afe0-ceb9b7e16bf0",
   "metadata": {},
   "outputs": [],
   "source": [
    "a+=3"
   ]
  },
  {
   "cell_type": "code",
   "execution_count": 31,
   "id": "42a6fbf0-f6c7-409d-af26-3f35f5802cff",
   "metadata": {},
   "outputs": [
    {
     "data": {
      "text/plain": [
       "13"
      ]
     },
     "execution_count": 31,
     "metadata": {},
     "output_type": "execute_result"
    }
   ],
   "source": [
    "a"
   ]
  },
  {
   "cell_type": "code",
   "execution_count": 32,
   "id": "e0822950-e8d4-417d-8812-613151c85047",
   "metadata": {},
   "outputs": [],
   "source": [
    "a =a+3"
   ]
  },
  {
   "cell_type": "code",
   "execution_count": null,
   "id": "03a68b0a-314a-4bf4-9e53-9f255fe0cf20",
   "metadata": {},
   "outputs": [],
   "source": []
  }
 ],
 "metadata": {
  "kernelspec": {
   "display_name": "Python 3 (ipykernel)",
   "language": "python",
   "name": "python3"
  },
  "language_info": {
   "codemirror_mode": {
    "name": "ipython",
    "version": 3
   },
   "file_extension": ".py",
   "mimetype": "text/x-python",
   "name": "python",
   "nbconvert_exporter": "python",
   "pygments_lexer": "ipython3",
   "version": "3.10.8"
  }
 },
 "nbformat": 4,
 "nbformat_minor": 5
}
